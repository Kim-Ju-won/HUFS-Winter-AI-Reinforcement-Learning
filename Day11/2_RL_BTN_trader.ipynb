{
  "nbformat": 4,
  "nbformat_minor": 0,
  "metadata": {
    "colab": {
      "name": "2_RL_BTN_trader.ipynb",
      "provenance": [],
      "collapsed_sections": [],
      "include_colab_link": true
    },
    "kernelspec": {
      "name": "python3",
      "display_name": "Python 3"
    },
    "language_info": {
      "name": "python"
    }
  },
  "cells": [
    {
      "cell_type": "markdown",
      "metadata": {
        "id": "view-in-github",
        "colab_type": "text"
      },
      "source": [
        "<a href=\"https://colab.research.google.com/github/Kim-Ju-won/HUFS-Winter-AI-Reinforcement-Learning/blob/main/Day11/2_RL_BTN_trader.ipynb\" target=\"_parent\"><img src=\"https://colab.research.google.com/assets/colab-badge.svg\" alt=\"Open In Colab\"/></a>"
      ]
    },
    {
      "cell_type": "code",
      "source": [
        "!pip install mplfinance"
      ],
      "metadata": {
        "colab": {
          "base_uri": "https://localhost:8080/"
        },
        "id": "dcR5wU_wjENc",
        "outputId": "a89629a9-8582-4c30-ed32-e5b500b6f4cc"
      },
      "execution_count": 1,
      "outputs": [
        {
          "output_type": "stream",
          "name": "stdout",
          "text": [
            "Collecting mplfinance\n",
            "  Downloading mplfinance-0.12.8b6-py3-none-any.whl (64 kB)\n",
            "\u001b[?25l\r\u001b[K     |█████                           | 10 kB 12.7 MB/s eta 0:00:01\r\u001b[K     |██████████▏                     | 20 kB 13.0 MB/s eta 0:00:01\r\u001b[K     |███████████████▎                | 30 kB 7.4 MB/s eta 0:00:01\r\u001b[K     |████████████████████▍           | 40 kB 7.2 MB/s eta 0:00:01\r\u001b[K     |█████████████████████████▌      | 51 kB 4.7 MB/s eta 0:00:01\r\u001b[K     |██████████████████████████████▌ | 61 kB 4.9 MB/s eta 0:00:01\r\u001b[K     |████████████████████████████████| 64 kB 1.3 MB/s \n",
            "\u001b[?25hRequirement already satisfied: matplotlib in /usr/local/lib/python3.7/dist-packages (from mplfinance) (3.2.2)\n",
            "Requirement already satisfied: pandas in /usr/local/lib/python3.7/dist-packages (from mplfinance) (1.1.5)\n",
            "Requirement already satisfied: kiwisolver>=1.0.1 in /usr/local/lib/python3.7/dist-packages (from matplotlib->mplfinance) (1.3.2)\n",
            "Requirement already satisfied: numpy>=1.11 in /usr/local/lib/python3.7/dist-packages (from matplotlib->mplfinance) (1.19.5)\n",
            "Requirement already satisfied: cycler>=0.10 in /usr/local/lib/python3.7/dist-packages (from matplotlib->mplfinance) (0.11.0)\n",
            "Requirement already satisfied: python-dateutil>=2.1 in /usr/local/lib/python3.7/dist-packages (from matplotlib->mplfinance) (2.8.2)\n",
            "Requirement already satisfied: pyparsing!=2.0.4,!=2.1.2,!=2.1.6,>=2.0.1 in /usr/local/lib/python3.7/dist-packages (from matplotlib->mplfinance) (3.0.7)\n",
            "Requirement already satisfied: six>=1.5 in /usr/local/lib/python3.7/dist-packages (from python-dateutil>=2.1->matplotlib->mplfinance) (1.15.0)\n",
            "Requirement already satisfied: pytz>=2017.2 in /usr/local/lib/python3.7/dist-packages (from pandas->mplfinance) (2018.9)\n",
            "Installing collected packages: mplfinance\n",
            "Successfully installed mplfinance-0.12.8b6\n"
          ]
        }
      ]
    },
    {
      "cell_type": "code",
      "execution_count": 2,
      "metadata": {
        "id": "z6uJgLBSgt9h"
      },
      "outputs": [],
      "source": [
        "from google.colab.patches import cv2_imshow\n",
        "import pandas as pd\n",
        "from collections import deque\n",
        "import matplotlib.pyplot as plt\n",
        "from mplfinance.original_flavor import candlestick_ohlc\n",
        "import matplotlib.dates as mpl_dates\n",
        "from datetime import datetime\n",
        "import os\n",
        "import cv2\n",
        "import numpy as np\n",
        "\n",
        "def Write_to_file(Date, net_worth, filename='{}.txt'.format(datetime.now().strftime(\"%Y-%m-%d %H:%M:%S\"))):\n",
        "    for i in net_worth: \n",
        "        Date += \" {}\".format(i)\n",
        "    #print(Date)\n",
        "    if not os.path.exists('logs'):\n",
        "        os.makedirs('logs')\n",
        "    file = open(\"logs/\"+filename, 'a+')\n",
        "    file.write(Date+\"\\n\")\n",
        "    file.close()\n",
        "\n",
        "class TradingGraph:\n",
        "    # A crypto trading visualization using matplotlib made to render custom prices which come in following way:\n",
        "    # Date, Open, High, Low, Close, Volume, net_worth, trades\n",
        "    # call render every step\n",
        "    def __init__(self, Render_range):\n",
        "        self.Volume = deque(maxlen=Render_range)\n",
        "        self.net_worth = deque(maxlen=Render_range)\n",
        "        self.render_data = deque(maxlen=Render_range)\n",
        "        self.Render_range = Render_range\n",
        "\n",
        "        # We are using the style ‘ggplot’\n",
        "        plt.style.use('ggplot')\n",
        "        # close all plots if there are open\n",
        "        plt.close('all')\n",
        "        # figsize attribute allows us to specify the width and height of a figure in unit inches\n",
        "        self.fig = plt.figure(figsize=(16,8)) \n",
        "\n",
        "        # Create top subplot for price axis\n",
        "        self.ax1 = plt.subplot2grid((6,1), (0,0), rowspan=5, colspan=1)\n",
        "        \n",
        "        # Create bottom subplot for volume which shares its x-axis\n",
        "        self.ax2 = plt.subplot2grid((6,1), (5,0), rowspan=1, colspan=1, sharex=self.ax1)\n",
        "        \n",
        "        # Create a new axis for net worth which shares its x-axis with price\n",
        "        self.ax3 = self.ax1.twinx()\n",
        "\n",
        "        # Formatting Date\n",
        "        self.date_format = mpl_dates.DateFormatter('%d-%m-%Y')\n",
        "        #self.date_format = mpl_dates.DateFormatter('%d-%m-%Y')\n",
        "        \n",
        "        # Add paddings to make graph easier to view\n",
        "        #plt.subplots_adjust(left=0.07, bottom=-0.1, right=0.93, top=0.97, wspace=0, hspace=0)\n",
        "\n",
        "    # Render the environment to the screen\n",
        "    def render(self, Date, Open, High, Low, Close, Volume, net_worth, trades):\n",
        "        # append volume and net_worth to deque list\n",
        "        self.Volume.append(Volume)\n",
        "        self.net_worth.append(net_worth)\n",
        "\n",
        "        # before appending to deque list, need to convert Date to special format\n",
        "        Date = mpl_dates.date2num([pd.to_datetime(Date)])[0]\n",
        "        self.render_data.append([Date, Open, High, Low, Close])\n",
        "        \n",
        "        # Clear the frame rendered last step\n",
        "        self.ax1.clear()\n",
        "        candlestick_ohlc(self.ax1, self.render_data, width=0.8/24, colorup='green', colordown='red', alpha=0.8)\n",
        "\n",
        "        # Put all dates to one list and fill ax2 sublot with volume\n",
        "        Date_Render_range = [i[0] for i in self.render_data]\n",
        "        self.ax2.clear()\n",
        "        self.ax2.fill_between(Date_Render_range, self.Volume, 0)\n",
        "\n",
        "        # draw our net_worth graph on ax3 (shared with ax1) subplot\n",
        "        self.ax3.clear()\n",
        "        self.ax3.plot(Date_Render_range, self.net_worth, color=\"blue\")\n",
        "        \n",
        "        # beautify the x-labels (Our Date format)\n",
        "        self.ax1.xaxis.set_major_formatter(self.date_format)\n",
        "        self.fig.autofmt_xdate()\n",
        "\n",
        "        # sort sell and buy orders, put arrows in appropiate order positions\n",
        "        for trade in trades:\n",
        "            trade_date = mpl_dates.date2num([pd.to_datetime(trade['Date'])])[0]\n",
        "            if trade_date in Date_Render_range:\n",
        "                if trade['type'] == 'buy':\n",
        "                    high_low = trade['Low']-10\n",
        "                    self.ax1.scatter(trade_date, high_low, c='green', label='green', s = 120, edgecolors='none', marker=\"^\")\n",
        "                else:\n",
        "                    high_low = trade['High']+10\n",
        "                    self.ax1.scatter(trade_date, high_low, c='red', label='red', s = 120, edgecolors='none', marker=\"v\")\n",
        "\n",
        "        # we need to set layers every step, because we are clearing subplots every step\n",
        "        self.ax2.set_xlabel('Date')\n",
        "        self.ax1.set_ylabel('Price')\n",
        "        self.ax3.set_ylabel('Balance')\n",
        "\n",
        "        # I use tight_layout to replace plt.subplots_adjust\n",
        "        self.fig.tight_layout()\n",
        "\n",
        "        \"\"\"Display image with matplotlib - interrupting other tasks\"\"\"\n",
        "        # Show the graph without blocking the rest of the program\n",
        "        #plt.show(block=False)\n",
        "        # Necessary to view frames before they are unrendered\n",
        "        #plt.pause(0.001)\n",
        "\n",
        "        \"\"\"Display image with OpenCV - no interruption\"\"\"\n",
        "        # redraw the canvas\n",
        "        self.fig.canvas.draw()\n",
        "        # convert canvas to image\n",
        "        img = np.fromstring(self.fig.canvas.tostring_rgb(), dtype=np.uint8, sep='')\n",
        "        img  = img.reshape(self.fig.canvas.get_width_height()[::-1] + (3,))\n",
        "\n",
        "        # img is rgb, convert to opencv's default bgr\n",
        "        image = cv2.cvtColor(img, cv2.COLOR_RGB2BGR)\n",
        "\n",
        "        # display image with OpenCV or any operation you like\n",
        "        #cv2.imshow(\"Bitcoin trading bot\",image)\n",
        "        \n",
        "        #save image\n",
        "        imgfilename='images/{}.png'.format(datetime.now().strftime(\"%Y-%m-%d %H:%M:%S\"))\n",
        "        cv2.imwrite(imgfilename, image)\n",
        "        #cv2_imshow(image)\n",
        "\n",
        "        if cv2.waitKey(25) & 0xFF == ord(\"q\"):\n",
        "            cv2.destroyAllWindows()\n",
        "            return"
      ]
    },
    {
      "cell_type": "code",
      "source": [
        "import pandas as pd\n",
        "import numpy as np\n",
        "import random\n",
        "from collections import deque\n",
        "\n",
        "class CustomEnv:\n",
        "    # A custom Bitcoin trading environment\n",
        "    def __init__(self, df, initial_balance=1000, lookback_window_size=50, Render_range = 100):\n",
        "        # Define action space and state size and other custom parameters\n",
        "        self.df = df.dropna().reset_index()\n",
        "        self.df_total_steps = len(self.df)-1\n",
        "        self.initial_balance = initial_balance\n",
        "        self.lookback_window_size = lookback_window_size\n",
        "        self.Render_range = Render_range # render range in visualization\n",
        "\n",
        "        # Action space from 0 to 3, 0 is hold, 1 is buy, 2 is sell\n",
        "        self.action_space = np.array([0, 1, 2])\n",
        "\n",
        "        # Orders history contains the balance, net_worth, crypto_bought, crypto_sold, crypto_held values for the last lookback_window_size steps\n",
        "        self.orders_history = deque(maxlen=self.lookback_window_size)\n",
        "        \n",
        "        # Market history contains the OHCL values for the last lookback_window_size prices\n",
        "        self.market_history = deque(maxlen=self.lookback_window_size)\n",
        "\n",
        "        # State size contains Market+Orders history for the last lookback_window_size steps\n",
        "        self.state_size = (self.lookback_window_size, 10)\n",
        "\n",
        "    # Reset the state of the environment to an initial state\n",
        "    def reset(self, env_steps_size = 0):\n",
        "        self.visualization = TradingGraph(Render_range=self.Render_range) # init visualization\n",
        "        self.trades = deque(maxlen=self.Render_range) # limited orders memory for visualization\n",
        "        \n",
        "        self.balance = self.initial_balance\n",
        "        self.net_worth = self.initial_balance\n",
        "        self.prev_net_worth = self.initial_balance\n",
        "        self.crypto_held = 0\n",
        "        self.crypto_sold = 0\n",
        "        self.crypto_bought = 0\n",
        "        if env_steps_size > 0: # used for training dataset\n",
        "            self.start_step = random.randint(self.lookback_window_size, self.df_total_steps - env_steps_size)\n",
        "            self.end_step = self.start_step + env_steps_size\n",
        "        else: # used for testing dataset\n",
        "            self.start_step = self.lookback_window_size\n",
        "            self.end_step = self.df_total_steps\n",
        "            \n",
        "        self.current_step = self.start_step\n",
        "\n",
        "        for i in reversed(range(self.lookback_window_size)):\n",
        "            current_step = self.current_step - i\n",
        "            self.orders_history.append([self.balance, self.net_worth, self.crypto_bought, self.crypto_sold, self.crypto_held])\n",
        "            self.market_history.append([self.df.loc[current_step, 'Open'],\n",
        "                                        self.df.loc[current_step, 'High'],\n",
        "                                        self.df.loc[current_step, 'Low'],\n",
        "                                        self.df.loc[current_step, 'Close'],\n",
        "                                        self.df.loc[current_step, 'Volume']\n",
        "                                        ])\n",
        "\n",
        "        state = np.concatenate((self.market_history, self.orders_history), axis=1)\n",
        "        return state\n",
        "\n",
        "    # Get the data points for the given current_step\n",
        "    def _next_observation(self):\n",
        "        self.market_history.append([self.df.loc[self.current_step, 'Open'],\n",
        "                                    self.df.loc[self.current_step, 'High'],\n",
        "                                    self.df.loc[self.current_step, 'Low'],\n",
        "                                    self.df.loc[self.current_step, 'Close'],\n",
        "                                    self.df.loc[self.current_step, 'Volume']\n",
        "                                    ])\n",
        "        obs = np.concatenate((self.market_history, self.orders_history), axis=1)\n",
        "        return obs\n",
        "\n",
        "    # Execute one time step within the environment\n",
        "    def step(self, action):\n",
        "        self.crypto_bought = 0\n",
        "        self.crypto_sold = 0\n",
        "        self.current_step += 1\n",
        "\n",
        "        # Set the current price to a random price between open and close\n",
        "        current_price = random.uniform(\n",
        "            self.df.loc[self.current_step, 'Open'],\n",
        "            self.df.loc[self.current_step, 'Close'])\n",
        "        Date = self.df.loc[self.current_step, 'Date'] # for visualization\n",
        "        High = self.df.loc[self.current_step, 'High'] # for visualization\n",
        "        Low = self.df.loc[self.current_step, 'Low'] # for visualization\n",
        "        \n",
        "        if action == 0: # Hold\n",
        "            pass\n",
        "\n",
        "        elif action == 1 and self.balance > self.initial_balance/100:\n",
        "            # Buy with 100% of current balance\n",
        "            self.crypto_bought = self.balance / current_price\n",
        "            self.balance -= self.crypto_bought * current_price\n",
        "            self.crypto_held += self.crypto_bought\n",
        "            self.trades.append({'Date' : Date, 'High' : High, 'Low' : Low, 'total': self.crypto_bought, 'type': \"buy\"})\n",
        "\n",
        "        elif action == 2 and self.crypto_held>0:\n",
        "            # Sell 100% of current crypto held\n",
        "            self.crypto_sold = self.crypto_held\n",
        "            self.balance += self.crypto_sold * current_price\n",
        "            self.crypto_held -= self.crypto_sold\n",
        "            self.trades.append({'Date' : Date, 'High' : High, 'Low' : Low, 'total': self.crypto_sold, 'type': \"sell\"})\n",
        "\n",
        "        self.prev_net_worth = self.net_worth\n",
        "        self.net_worth = self.balance + self.crypto_held * current_price\n",
        "\n",
        "        self.orders_history.append([self.balance, self.net_worth, self.crypto_bought, self.crypto_sold, self.crypto_held])\n",
        "        #Write_to_file(Date, self.orders_history[-1])\n",
        "\n",
        "        # Calculate reward\n",
        "        reward = self.net_worth - self.prev_net_worth\n",
        "\n",
        "        if self.net_worth <= self.initial_balance/2:\n",
        "            done = True\n",
        "        else:\n",
        "            done = False\n",
        "\n",
        "        obs = self._next_observation()\n",
        "        \n",
        "        return obs, reward, done\n",
        "\n",
        "    # render environment\n",
        "    def render(self, visualize = False):\n",
        "        #print(f'Step: {self.current_step}, Net Worth: {self.net_worth}')\n",
        "        if visualize:\n",
        "            Date = self.df.loc[self.current_step, 'Date']\n",
        "            Open = self.df.loc[self.current_step, 'Open']\n",
        "            Close = self.df.loc[self.current_step, 'Close']\n",
        "            High = self.df.loc[self.current_step, 'High']\n",
        "            Low = self.df.loc[self.current_step, 'Low']\n",
        "            Volume = self.df.loc[self.current_step, 'Volume']\n",
        "\n",
        "            # Render the environment to the screen\n",
        "            self.visualization.render(Date, Open, High, Low, Close, Volume, self.net_worth, self.trades)\n",
        "\n",
        "        \n",
        "def Random_games(env, visualize, train_episodes = 50, training_batch_size=500):\n",
        "    average_net_worth = 0\n",
        "    for episode in range(train_episodes):\n",
        "        state = env.reset(env_steps_size = training_batch_size)\n",
        "        while True:\n",
        "            env.render(visualize)\n",
        "\n",
        "            action = np.random.randint(3, size=1)[0]\n",
        "\n",
        "            state, reward, done = env.step(action)\n",
        "\n",
        "            if env.current_step == env.end_step:\n",
        "                average_net_worth += env.net_worth\n",
        "                print(\"net_worth:\", env.net_worth)\n",
        "                break\n",
        "\n",
        "    print(\"average_net_worth:\", average_net_worth/train_episodes)\n"
      ],
      "metadata": {
        "id": "5ofG9QYeiwkM"
      },
      "execution_count": 3,
      "outputs": []
    },
    {
      "cell_type": "code",
      "source": [
        "!rm -rf *"
      ],
      "metadata": {
        "id": "DfOuHdYT2arj"
      },
      "execution_count": 4,
      "outputs": []
    },
    {
      "cell_type": "code",
      "source": [
        "!mkdir images"
      ],
      "metadata": {
        "id": "3nr4VpBT0ktQ"
      },
      "execution_count": 5,
      "outputs": []
    },
    {
      "cell_type": "code",
      "source": [
        "url = \"https://raw.githubusercontent.com/decoderkurt/RL-Bitcoin-trading-bot/main/RL-Bitcoin-trading-bot_2/pricedata.csv\"\n",
        "df = pd.read_csv(url)\n",
        "df = df.sort_values('Date')\n",
        "\n",
        "lookback_window_size = 50\n",
        "train_df = df[:-720-lookback_window_size]\n",
        "test_df = df[-720-lookback_window_size:] # 30 days\n",
        "\n",
        "train_env = CustomEnv(train_df, lookback_window_size=lookback_window_size)\n",
        "test_env = CustomEnv(test_df, lookback_window_size=lookback_window_size)\n",
        "\n",
        "Random_games(test_env, visualize=True, train_episodes = 1, training_batch_size=300)"
      ],
      "metadata": {
        "id": "m_jtogSVk3jD",
        "colab": {
          "base_uri": "https://localhost:8080/",
          "height": 401
        },
        "outputId": "c76cfdff-cb37-431a-cf8f-fd3e860b5b95"
      },
      "execution_count": 6,
      "outputs": [
        {
          "output_type": "stream",
          "name": "stderr",
          "text": [
            "/usr/local/lib/python3.7/dist-packages/ipykernel_launcher.py:111: DeprecationWarning: The binary mode of fromstring is deprecated, as it behaves surprisingly on unicode inputs. Use frombuffer instead\n"
          ]
        },
        {
          "output_type": "stream",
          "name": "stdout",
          "text": [
            "net_worth: 932.2729034868917\n",
            "average_net_worth: 932.2729034868917\n"
          ]
        },
        {
          "output_type": "display_data",
          "data": {
            "image/png": "[encoded data removed]",
            "text/plain": [
              "<Figure size 1152x576 with 3 Axes>"
            ]
          },
          "metadata": {}
        }
      ]
    },
    {
      "cell_type": "code",
      "source": [
        "!pip install imageio"
      ],
      "metadata": {
        "colab": {
          "base_uri": "https://localhost:8080/"
        },
        "id": "TPgj6VLMQPFW",
        "outputId": "b4109525-d19f-4604-d686-f93cb93ea449"
      },
      "execution_count": 8,
      "outputs": [
        {
          "output_type": "stream",
          "name": "stdout",
          "text": [
            "Requirement already satisfied: imageio in /usr/local/lib/python3.7/dist-packages (2.4.1)\n",
            "Requirement already satisfied: numpy in /usr/local/lib/python3.7/dist-packages (from imageio) (1.19.5)\n",
            "Requirement already satisfied: pillow in /usr/local/lib/python3.7/dist-packages (from imageio) (7.1.2)\n"
          ]
        }
      ]
    },
    {
      "cell_type": "code",
      "source": [
        "import numpy as np\n",
        "from PIL import Image\n",
        "import os\n",
        "import imageio\n",
        "\n",
        "images = []\n",
        "path_dir = 'images/'\n",
        "file_list = os.listdir(path_dir)\n",
        "\n",
        "for png in file_list:\n",
        "    image = Image.open(path_dir + png)\n",
        "    pixel = np.array(image)\n",
        "    images.append(pixel)\n",
        "  \n",
        "imageio.mimsave('./result.gif', images, fps=1)"
      ],
      "metadata": {
        "id": "3Yf3lMwI4ten"
      },
      "execution_count": 9,
      "outputs": []
    }
  ]
}