{
  "nbformat": 4,
  "nbformat_minor": 0,
  "metadata": {
    "colab": {
      "name": "1_getting_started.ipynb",
      "provenance": [],
      "collapsed_sections": [],
      "include_colab_link": true
    },
    "kernelspec": {
      "name": "python3",
      "display_name": "Python 3"
    },
    "accelerator": "GPU"
  },
  "cells": [
    {
      "cell_type": "markdown",
      "metadata": {
        "id": "view-in-github",
        "colab_type": "text"
      },
      "source": [
        "<a href=\"https://colab.research.google.com/github/Kim-Ju-won/HUFS-Winter-AI-Reinforcement-Learning/blob/main/Day5/getting_started.ipynb\" target=\"_parent\"><img src=\"https://colab.research.google.com/assets/colab-badge.svg\" alt=\"Open In Colab\"/></a>"
      ]
    },
    {
      "cell_type": "markdown",
      "metadata": {
        "id": "hyyN-2qyK_T2"
      },
      "source": [
        "## Install Dependencies and Stable Baselines Using Pip\n",
        "\n",
        "List of full dependencies can be found in the [README](https://github.com/hill-a/stable-baselines).\n",
        "\n",
        "```\n",
        "sudo apt-get update && sudo apt-get install cmake libopenmpi-dev zlib1g-dev\n",
        "```\n",
        "\n",
        "\n",
        "```\n",
        "pip install stable-baselines[mpi]\n",
        "```"
      ]
    },
    {
      "cell_type": "code",
      "metadata": {
        "id": "gWskDE2c9WoN",
        "colab": {
          "base_uri": "https://localhost:8080/"
        },
        "outputId": "1e454392-5b6a-4ee0-b8b6-0f2efe389ca8"
      },
      "source": [
        "# Stable Baselines only supports tensorflow 1.x for now\n",
        "%tensorflow_version 1.x\n",
        "!apt-get install ffmpeg freeglut3-dev xvfb  # For visualization\n",
        "!pip install stable-baselines[mpi]==2.10.2"
      ],
      "execution_count": 1,
      "outputs": [
        {
          "output_type": "stream",
          "name": "stdout",
          "text": [
            "TensorFlow 1.x selected.\n",
            "Reading package lists... Done\n",
            "Building dependency tree       \n",
            "Reading state information... Done\n",
            "freeglut3-dev is already the newest version (2.8.1-3).\n",
            "freeglut3-dev set to manually installed.\n",
            "ffmpeg is already the newest version (7:3.4.8-0ubuntu0.2).\n",
            "The following package was automatically installed and is no longer required:\n",
            "  libnvidia-common-470\n",
            "Use 'apt autoremove' to remove it.\n",
            "The following NEW packages will be installed:\n",
            "  xvfb\n",
            "0 upgraded, 1 newly installed, 0 to remove and 39 not upgraded.\n",
            "Need to get 784 kB of archives.\n",
            "After this operation, 2,271 kB of additional disk space will be used.\n",
            "Get:1 http://archive.ubuntu.com/ubuntu bionic-updates/universe amd64 xvfb amd64 2:1.19.6-1ubuntu4.10 [784 kB]\n",
            "Fetched 784 kB in 1s (851 kB/s)\n",
            "Selecting previously unselected package xvfb.\n",
            "(Reading database ... 155320 files and directories currently installed.)\n",
            "Preparing to unpack .../xvfb_2%3a1.19.6-1ubuntu4.10_amd64.deb ...\n",
            "Unpacking xvfb (2:1.19.6-1ubuntu4.10) ...\n",
            "Setting up xvfb (2:1.19.6-1ubuntu4.10) ...\n",
            "Processing triggers for man-db (2.8.3-2ubuntu0.1) ...\n",
            "Collecting stable-baselines[mpi]==2.10.2\n",
            "  Downloading stable_baselines-2.10.2-py3-none-any.whl (240 kB)\n",
            "\u001b[K     |████████████████████████████████| 240 kB 5.2 MB/s \n",
            "\u001b[?25hRequirement already satisfied: cloudpickle>=0.5.5 in /usr/local/lib/python3.7/dist-packages (from stable-baselines[mpi]==2.10.2) (1.3.0)\n",
            "Requirement already satisfied: numpy in /usr/local/lib/python3.7/dist-packages (from stable-baselines[mpi]==2.10.2) (1.21.5)\n",
            "Requirement already satisfied: pandas in /usr/local/lib/python3.7/dist-packages (from stable-baselines[mpi]==2.10.2) (1.3.5)\n",
            "Requirement already satisfied: gym[atari,classic_control]>=0.11 in /usr/local/lib/python3.7/dist-packages (from stable-baselines[mpi]==2.10.2) (0.17.3)\n",
            "Requirement already satisfied: scipy in /usr/local/lib/python3.7/dist-packages (from stable-baselines[mpi]==2.10.2) (1.4.1)\n",
            "Requirement already satisfied: joblib in /usr/local/lib/python3.7/dist-packages (from stable-baselines[mpi]==2.10.2) (1.1.0)\n",
            "Requirement already satisfied: opencv-python in /usr/local/lib/python3.7/dist-packages (from stable-baselines[mpi]==2.10.2) (4.1.2.30)\n",
            "Requirement already satisfied: matplotlib in /usr/local/lib/python3.7/dist-packages (from stable-baselines[mpi]==2.10.2) (3.2.2)\n",
            "Requirement already satisfied: mpi4py in /tensorflow-1.15.2/python3.7 (from stable-baselines[mpi]==2.10.2) (3.0.3)\n",
            "Requirement already satisfied: pyglet<=1.5.0,>=1.4.0 in /usr/local/lib/python3.7/dist-packages (from gym[atari,classic_control]>=0.11->stable-baselines[mpi]==2.10.2) (1.5.0)\n",
            "Requirement already satisfied: atari-py~=0.2.0 in /usr/local/lib/python3.7/dist-packages (from gym[atari,classic_control]>=0.11->stable-baselines[mpi]==2.10.2) (0.2.9)\n",
            "Requirement already satisfied: Pillow in /usr/local/lib/python3.7/dist-packages (from gym[atari,classic_control]>=0.11->stable-baselines[mpi]==2.10.2) (7.1.2)\n",
            "Requirement already satisfied: six in /usr/local/lib/python3.7/dist-packages (from atari-py~=0.2.0->gym[atari,classic_control]>=0.11->stable-baselines[mpi]==2.10.2) (1.15.0)\n",
            "Requirement already satisfied: future in /usr/local/lib/python3.7/dist-packages (from pyglet<=1.5.0,>=1.4.0->gym[atari,classic_control]>=0.11->stable-baselines[mpi]==2.10.2) (0.16.0)\n",
            "Requirement already satisfied: cycler>=0.10 in /usr/local/lib/python3.7/dist-packages (from matplotlib->stable-baselines[mpi]==2.10.2) (0.11.0)\n",
            "Requirement already satisfied: python-dateutil>=2.1 in /usr/local/lib/python3.7/dist-packages (from matplotlib->stable-baselines[mpi]==2.10.2) (2.8.2)\n",
            "Requirement already satisfied: pyparsing!=2.0.4,!=2.1.2,!=2.1.6,>=2.0.1 in /usr/local/lib/python3.7/dist-packages (from matplotlib->stable-baselines[mpi]==2.10.2) (3.0.7)\n",
            "Requirement already satisfied: kiwisolver>=1.0.1 in /usr/local/lib/python3.7/dist-packages (from matplotlib->stable-baselines[mpi]==2.10.2) (1.3.2)\n",
            "Requirement already satisfied: pytz>=2017.3 in /usr/local/lib/python3.7/dist-packages (from pandas->stable-baselines[mpi]==2.10.2) (2018.9)\n",
            "Installing collected packages: stable-baselines\n",
            "  Attempting uninstall: stable-baselines\n",
            "    Found existing installation: stable-baselines 2.2.1\n",
            "    Uninstalling stable-baselines-2.2.1:\n",
            "      Successfully uninstalled stable-baselines-2.2.1\n",
            "Successfully installed stable-baselines-2.10.2\n"
          ]
        }
      ]
    },
    {
      "cell_type": "code",
      "metadata": {
        "id": "U29X1-B-AIKE",
        "colab": {
          "base_uri": "https://localhost:8080/",
          "height": 234
        },
        "outputId": "06265f53-54dd-4d64-d4c2-66a5c3b25e99"
      },
      "source": [
        "import stable_baselines\n",
        "stable_baselines.__version__"
      ],
      "execution_count": 2,
      "outputs": [
        {
          "output_type": "stream",
          "name": "stdout",
          "text": [
            "WARNING:tensorflow:\n",
            "The TensorFlow contrib module will not be included in TensorFlow 2.0.\n",
            "For more information, please see:\n",
            "  * https://github.com/tensorflow/community/blob/master/rfcs/20180907-contrib-sunset.md\n",
            "  * https://github.com/tensorflow/addons\n",
            "  * https://github.com/tensorflow/io (for I/O related ops)\n",
            "If you depend on functionality not listed there, please file an issue.\n",
            "\n"
          ]
        },
        {
          "output_type": "stream",
          "name": "stderr",
          "text": [
            "/usr/local/lib/python3.7/dist-packages/stable_baselines/__init__.py:33: UserWarning: stable-baselines is in maintenance mode, please use [Stable-Baselines3 (SB3)](https://github.com/DLR-RM/stable-baselines3) for an up-to-date version. You can find a [migration guide](https://stable-baselines3.readthedocs.io/en/master/guide/migration.html) in SB3 documentation.\n",
            "  \"stable-baselines is in maintenance mode, please use [Stable-Baselines3 (SB3)](https://github.com/DLR-RM/stable-baselines3) for an up-to-date version. You can find a [migration guide](https://stable-baselines3.readthedocs.io/en/master/guide/migration.html) in SB3 documentation.\"\n"
          ]
        },
        {
          "output_type": "execute_result",
          "data": {
            "application/vnd.google.colaboratory.intrinsic+json": {
              "type": "string"
            },
            "text/plain": [
              "'2.10.2'"
            ]
          },
          "metadata": {},
          "execution_count": 2
        }
      ]
    },
    {
      "cell_type": "markdown",
      "metadata": {
        "id": "FtY8FhliLsGm"
      },
      "source": [
        "## Imports"
      ]
    },
    {
      "cell_type": "code",
      "metadata": {
        "id": "BIedd7Pz9sOs"
      },
      "source": [
        "import gym\n",
        "import numpy as np"
      ],
      "execution_count": 3,
      "outputs": []
    },
    {
      "cell_type": "code",
      "metadata": {
        "id": "R7tKaBFrTR0a"
      },
      "source": [
        "from stable_baselines import TRPO"
      ],
      "execution_count": 4,
      "outputs": []
    },
    {
      "cell_type": "code",
      "metadata": {
        "id": "ROUJr675TT01"
      },
      "source": [
        "from stable_baselines.common.policies import MlpPolicy"
      ],
      "execution_count": 5,
      "outputs": []
    },
    {
      "cell_type": "markdown",
      "metadata": {
        "id": "RapkYvTXL7Cd"
      },
      "source": [
        "## Create the Gym env and instantiate the agent\n",
        "\n",
        "For this example, we will use CartPole environment, a classic control problem.\n",
        "\n",
        "\"A pole is attached by an un-actuated joint to a cart, which moves along a frictionless track. The system is controlled by applying a force of +1 or -1 to the cart. The pendulum starts upright, and the goal is to prevent it from falling over. A reward of +1 is provided for every timestep that the pole remains upright. \"\n",
        "\n",
        "Cartpole environment: [https://gym.openai.com/envs/CartPole-v1/](https://gym.openai.com/envs/CartPole-v1/)\n",
        "\n",
        "![Cartpole](https://cdn-images-1.medium.com/max/1143/1*h4WTQNVIsvMXJTCpXm_TAw.gif)\n",
        "\n",
        "Note: vectorized environments allow to easily multiprocess training. In this example, we are using only one process, hence the DummyVecEnv.\n",
        "\n",
        "We chose the MlpPolicy because input of CartPole is a feature vector, not images.\n",
        "\n",
        "The type of action to use (discrete/continuous) will be automatically deduced from the environment action space\n",
        "\n",
        "\n",
        "Here we are using the [Proximal Policy Optimization](https://stable-baselines.readthedocs.io/en/master/modules/ppo2.html) algorithm (PPO2 is the version optimized for GPU), which is an Actor-Critic method: it uses a value function to improve the policy gradient descent (by reducing the variance).\n",
        "\n",
        "It combines ideas from [A2C](https://stable-baselines.readthedocs.io/en/master/modules/a2c.html) (having multiple workers and using an entropy bonus for exploration) and [TRPO](https://stable-baselines.readthedocs.io/en/master/modules/trpo.html) (it uses a trust region to improve stability and avoid catastrophic drops in performance).\n",
        "\n",
        "PPO is an on-policy algorithm, which means that the trajectories used to update the networks must be collected using the latest policy.\n",
        "It is usually less sample efficient than off-policy alorithms like [DQN](https://stable-baselines.readthedocs.io/en/master/modules/dqn.html), [SAC](https://stable-baselines.readthedocs.io/en/master/modules/sac.html) or [TD3](https://stable-baselines.readthedocs.io/en/master/modules/td3.html), but is much faster regarding wall-clock time.\n"
      ]
    },
    {
      "cell_type": "code",
      "metadata": {
        "id": "pUWGZp3i9wyf",
        "colab": {
          "base_uri": "https://localhost:8080/"
        },
        "outputId": "0cd36b79-eda7-47e8-bf65-6e17af110f5a"
      },
      "source": [
        "env = gym.make('CartPole-v1')\n",
        "# vectorized environments allow to easily multiprocess training\n",
        "# we demonstrate its usefulness in the next examples\n",
        "# env = DummyVecEnv([lambda: env])\n",
        "\n",
        "model = TRPO(MlpPolicy, env, verbose=0)"
      ],
      "execution_count": 6,
      "outputs": [
        {
          "output_type": "stream",
          "name": "stdout",
          "text": [
            "WARNING:tensorflow:From /usr/local/lib/python3.7/dist-packages/stable_baselines/common/tf_util.py:191: The name tf.ConfigProto is deprecated. Please use tf.compat.v1.ConfigProto instead.\n",
            "\n",
            "WARNING:tensorflow:From /usr/local/lib/python3.7/dist-packages/stable_baselines/common/tf_util.py:200: The name tf.Session is deprecated. Please use tf.compat.v1.Session instead.\n",
            "\n",
            "WARNING:tensorflow:From /usr/local/lib/python3.7/dist-packages/stable_baselines/common/policies.py:116: The name tf.variable_scope is deprecated. Please use tf.compat.v1.variable_scope instead.\n",
            "\n",
            "WARNING:tensorflow:From /usr/local/lib/python3.7/dist-packages/stable_baselines/common/input.py:25: The name tf.placeholder is deprecated. Please use tf.compat.v1.placeholder instead.\n",
            "\n",
            "WARNING:tensorflow:From /usr/local/lib/python3.7/dist-packages/stable_baselines/common/policies.py:561: flatten (from tensorflow.python.layers.core) is deprecated and will be removed in a future version.\n",
            "Instructions for updating:\n",
            "Use keras.layers.flatten instead.\n",
            "WARNING:tensorflow:From /tensorflow-1.15.2/python3.7/tensorflow_core/python/layers/core.py:332: Layer.apply (from tensorflow.python.keras.engine.base_layer) is deprecated and will be removed in a future version.\n",
            "Instructions for updating:\n",
            "Please use `layer.__call__` method instead.\n",
            "WARNING:tensorflow:From /usr/local/lib/python3.7/dist-packages/stable_baselines/common/tf_layers.py:123: The name tf.get_variable is deprecated. Please use tf.compat.v1.get_variable instead.\n",
            "\n",
            "WARNING:tensorflow:From /usr/local/lib/python3.7/dist-packages/stable_baselines/common/distributions.py:326: The name tf.random_uniform is deprecated. Please use tf.random.uniform instead.\n",
            "\n",
            "WARNING:tensorflow:From /usr/local/lib/python3.7/dist-packages/stable_baselines/common/distributions.py:327: The name tf.log is deprecated. Please use tf.math.log instead.\n",
            "\n",
            "WARNING:tensorflow:From /usr/local/lib/python3.7/dist-packages/stable_baselines/common/tf_util.py:449: The name tf.get_collection is deprecated. Please use tf.compat.v1.get_collection instead.\n",
            "\n",
            "WARNING:tensorflow:From /usr/local/lib/python3.7/dist-packages/stable_baselines/common/tf_util.py:449: The name tf.GraphKeys is deprecated. Please use tf.compat.v1.GraphKeys instead.\n",
            "\n",
            "WARNING:tensorflow:From /usr/local/lib/python3.7/dist-packages/stable_baselines/common/tf_util.py:407: The name tf.assign is deprecated. Please use tf.compat.v1.assign instead.\n",
            "\n",
            "WARNING:tensorflow:From /usr/local/lib/python3.7/dist-packages/stable_baselines/trpo_mpi/trpo_mpi.py:192: The name tf.summary.scalar is deprecated. Please use tf.compat.v1.summary.scalar instead.\n",
            "\n",
            "WARNING:tensorflow:From /usr/local/lib/python3.7/dist-packages/stable_baselines/common/tf_util.py:241: The name tf.global_variables is deprecated. Please use tf.compat.v1.global_variables instead.\n",
            "\n",
            "WARNING:tensorflow:From /usr/local/lib/python3.7/dist-packages/stable_baselines/common/tf_util.py:242: The name tf.variables_initializer is deprecated. Please use tf.compat.v1.variables_initializer instead.\n",
            "\n",
            "WARNING:tensorflow:From /usr/local/lib/python3.7/dist-packages/stable_baselines/trpo_mpi/trpo_mpi.py:266: The name tf.summary.merge_all is deprecated. Please use tf.compat.v1.summary.merge_all instead.\n",
            "\n"
          ]
        }
      ]
    },
    {
      "cell_type": "markdown",
      "metadata": {
        "id": "4efFdrQ7MBvl"
      },
      "source": [
        "We create a helper function to evaluate the agent:"
      ]
    },
    {
      "cell_type": "code",
      "metadata": {
        "id": "63M8mSKR-6Zt"
      },
      "source": [
        "def evaluate(model, num_episodes=100):\n",
        "    \"\"\"\n",
        "    Evaluate a RL agent\n",
        "    :param model: (BaseRLModel object) the RL Agent\n",
        "    :param num_episodes: (int) number of episodes to evaluate it\n",
        "    :return: (float) Mean reward for the last num_episodes\n",
        "    \"\"\"\n",
        "    # This function will only work for a single Environment\n",
        "    env = model.get_env()\n",
        "    all_episode_rewards = []\n",
        "    for i in range(num_episodes):\n",
        "        episode_rewards = []\n",
        "        done = False\n",
        "        obs = env.reset()\n",
        "        while not done:\n",
        "            # _states are only useful when using LSTM policies\n",
        "            action, _states = model.predict(obs)\n",
        "            # here, action, rewards and dones are arrays\n",
        "            # because we are using vectorized env\n",
        "            obs, reward, done, info = env.step(action)\n",
        "            episode_rewards.append(reward)\n",
        "\n",
        "        all_episode_rewards.append(sum(episode_rewards))\n",
        "\n",
        "    mean_episode_reward = np.mean(all_episode_rewards)\n",
        "    print(\"Mean reward:\", mean_episode_reward, \"Num episodes:\", num_episodes)\n",
        "\n",
        "    return mean_episode_reward"
      ],
      "execution_count": 7,
      "outputs": []
    },
    {
      "cell_type": "markdown",
      "metadata": {
        "id": "6hkyafs--gJz"
      },
      "source": [
        "In fact, Stable-Baselines already provides you with that helper:"
      ]
    },
    {
      "cell_type": "code",
      "metadata": {
        "id": "s6ZNldIR-fce"
      },
      "source": [
        "from stable_baselines.common.evaluation import evaluate_policy"
      ],
      "execution_count": 8,
      "outputs": []
    },
    {
      "cell_type": "markdown",
      "metadata": {
        "id": "zjEVOIY8NVeK"
      },
      "source": [
        "Let's evaluate the un-trained agent, this should be a random agent."
      ]
    },
    {
      "cell_type": "code",
      "metadata": {
        "id": "xDHLMA6NFk95",
        "outputId": "27695e52-a0f7-4150-ea06-2361c163e89e",
        "colab": {
          "base_uri": "https://localhost:8080/"
        }
      },
      "source": [
        "# Use a separate environement for evaluation\n",
        "eval_env = gym.make('CartPole-v1')\n",
        "\n",
        "# Random Agent, before training\n",
        "mean_reward, std_reward = evaluate_policy(model, eval_env, n_eval_episodes=100)\n",
        "\n",
        "print(f\"mean_reward:{mean_reward:.2f} +/- {std_reward:.2f}\")"
      ],
      "execution_count": 9,
      "outputs": [
        {
          "output_type": "stream",
          "name": "stdout",
          "text": [
            "mean_reward:9.26 +/- 0.66\n"
          ]
        }
      ]
    },
    {
      "cell_type": "markdown",
      "metadata": {
        "id": "r5UoXTZPNdFE"
      },
      "source": [
        "## Train the agent and evaluate it"
      ]
    },
    {
      "cell_type": "code",
      "metadata": {
        "id": "e4cfSXIB-pTF",
        "outputId": "2a78efc3-54c4-4af4-f4c2-7d29b5c7c351",
        "colab": {
          "base_uri": "https://localhost:8080/"
        }
      },
      "source": [
        "# Train the agent for 10000 steps\n",
        "model.learn(total_timesteps=10000)"
      ],
      "execution_count": 10,
      "outputs": [
        {
          "output_type": "stream",
          "name": "stdout",
          "text": [
            "WARNING:tensorflow:From /usr/local/lib/python3.7/dist-packages/stable_baselines/trpo_mpi/trpo_mpi.py:364: The name tf.RunOptions is deprecated. Please use tf.compat.v1.RunOptions instead.\n",
            "\n"
          ]
        },
        {
          "output_type": "execute_result",
          "data": {
            "text/plain": [
              "<stable_baselines.trpo_mpi.trpo_mpi.TRPO at 0x7f1a8c0dd510>"
            ]
          },
          "metadata": {},
          "execution_count": 10
        }
      ]
    },
    {
      "cell_type": "code",
      "metadata": {
        "id": "ygl_gVmV_QP7",
        "outputId": "109798c6-2ae5-47cc-fe42-afd1e5dab3d7",
        "colab": {
          "base_uri": "https://localhost:8080/"
        }
      },
      "source": [
        "# Evaluate the trained agent\n",
        "mean_reward, std_reward = evaluate_policy(model, eval_env, n_eval_episodes=100)\n",
        "\n",
        "print(f\"mean_reward:{mean_reward:.2f} +/- {std_reward:.2f}\")"
      ],
      "execution_count": 11,
      "outputs": [
        {
          "output_type": "stream",
          "name": "stdout",
          "text": [
            "mean_reward:419.40 +/- 73.09\n"
          ]
        }
      ]
    },
    {
      "cell_type": "markdown",
      "metadata": {
        "id": "A00W6yY3NkHG"
      },
      "source": [
        "Apparently the training went well, the mean reward increased a lot ! "
      ]
    },
    {
      "cell_type": "markdown",
      "metadata": {
        "id": "xVm9QPNVwKXN"
      },
      "source": [
        "### Prepare video recording"
      ]
    },
    {
      "cell_type": "code",
      "metadata": {
        "id": "MPyfQxD5z26J"
      },
      "source": [
        "# Set up fake display; otherwise rendering will fail\n",
        "import os\n",
        "os.system(\"Xvfb :1 -screen 0 1024x768x24 &\")\n",
        "os.environ['DISPLAY'] = ':1'"
      ],
      "execution_count": 12,
      "outputs": []
    },
    {
      "cell_type": "code",
      "metadata": {
        "id": "SLzXxO8VMD6N"
      },
      "source": [
        "import base64\n",
        "from pathlib import Path\n",
        "\n",
        "from IPython import display as ipythondisplay\n",
        "\n",
        "def show_videos(video_path='', prefix=''):\n",
        "  \"\"\"\n",
        "  Taken from https://github.com/eleurent/highway-env\n",
        "\n",
        "  :param video_path: (str) Path to the folder containing videos\n",
        "  :param prefix: (str) Filter the video, showing only the only starting with this prefix\n",
        "  \"\"\"\n",
        "  html = []\n",
        "  for mp4 in Path(video_path).glob(\"{}*.mp4\".format(prefix)):\n",
        "      video_b64 = base64.b64encode(mp4.read_bytes())\n",
        "      html.append('''<video alt=\"{}\" autoplay \n",
        "                    loop controls style=\"height: 400px;\">\n",
        "                    <source src=\"data:video/mp4;base64,{}\" type=\"video/mp4\" />\n",
        "                </video>'''.format(mp4, video_b64.decode('ascii')))\n",
        "  ipythondisplay.display(ipythondisplay.HTML(data=\"<br>\".join(html)))"
      ],
      "execution_count": 13,
      "outputs": []
    },
    {
      "cell_type": "markdown",
      "metadata": {
        "id": "LTRNUfulOGaF"
      },
      "source": [
        "We will record a video using the [VecVideoRecorder](https://stable-baselines.readthedocs.io/en/master/guide/vec_envs.html#vecvideorecorder) wrapper, you will learn about those wrapper in the next notebook."
      ]
    },
    {
      "cell_type": "code",
      "metadata": {
        "id": "Trag9dQpOIhx"
      },
      "source": [
        "from stable_baselines.common.vec_env import VecVideoRecorder, DummyVecEnv\n",
        "\n",
        "def record_video(env_id, model, video_length=500, prefix='', video_folder='videos/'):\n",
        "  \"\"\"\n",
        "  :param env_id: (str)\n",
        "  :param model: (RL model)\n",
        "  :param video_length: (int)\n",
        "  :param prefix: (str)\n",
        "  :param video_folder: (str)\n",
        "  \"\"\"\n",
        "  eval_env = DummyVecEnv([lambda: gym.make('CartPole-v1')])\n",
        "  # Start the video at step=0 and record 500 steps\n",
        "  eval_env = VecVideoRecorder(eval_env, video_folder=video_folder,\n",
        "                              record_video_trigger=lambda step: step == 0, video_length=video_length,\n",
        "                              name_prefix=prefix)\n",
        "\n",
        "  obs = eval_env.reset()\n",
        "  for _ in range(video_length):\n",
        "    action, _ = model.predict(obs)\n",
        "    obs, _, _, _ = eval_env.step(action)\n",
        "\n",
        "  # Close the video recorder\n",
        "  eval_env.close()"
      ],
      "execution_count": 14,
      "outputs": []
    },
    {
      "cell_type": "markdown",
      "metadata": {
        "id": "KOObbeu5MMlR"
      },
      "source": [
        "### Visualize trained agent\n",
        "\n"
      ]
    },
    {
      "cell_type": "code",
      "metadata": {
        "id": "iATu7AiyMQW2",
        "outputId": "3b931016-a3b7-450f-aeb4-36eb13b548b0",
        "colab": {
          "base_uri": "https://localhost:8080/"
        }
      },
      "source": [
        "record_video('CartPole-v1', model, video_length=500, prefix='trpo-cartpole')"
      ],
      "execution_count": 15,
      "outputs": [
        {
          "output_type": "stream",
          "name": "stdout",
          "text": [
            "Saving video to  /content/videos/trpo-cartpole-step-0-to-step-500.mp4\n"
          ]
        }
      ]
    },
    {
      "cell_type": "code",
      "metadata": {
        "id": "-n4i-fW3NojZ",
        "outputId": "de422cbe-00a5-402e-e108-0b7826cfedfe",
        "colab": {
          "base_uri": "https://localhost:8080/",
          "height": 0
        }
      },
      "source": [
        "show_videos('videos', prefix='trpo')"
      ],
      "execution_count": 16,
      "outputs": [
        {
          "output_type": "display_data",
          "data": {
            "text/html": [
              "<video alt=\"videos/trpo-cartpole-step-0-to-step-500.mp4\" autoplay \n",
              "                    loop controls style=\"height: 400px;\">\n",
              "                    <source src=\"data:video/mp4;base64,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\" type=\"video/mp4\" />\n",
              "                </video>"
            ],
            "text/plain": [
              "<IPython.core.display.HTML object>"
            ]
          },
          "metadata": {}
        }
      ]
    },
    {
      "cell_type": "markdown",
      "metadata": {
        "id": "9Y8zg4V566qD"
      },
      "source": [
        "## Bonus: Train a RL Model in One Line\n",
        "\n",
        "The policy class to use will be inferred and the environment will be automatically created. This works because both are [registered](https://stable-baselines.readthedocs.io/en/master/guide/quickstart.html)."
      ]
    },
    {
      "cell_type": "code",
      "metadata": {
        "id": "iaOPfOrwWEP4",
        "colab": {
          "base_uri": "https://localhost:8080/"
        },
        "outputId": "8425c1b6-88de-4484-b7a5-66a5b7cd5982"
      },
      "source": [
        "model = TRPO('MlpPolicy', \"CartPole-v1\", verbose=1).learn(1000)"
      ],
      "execution_count": null,
      "outputs": [
        {
          "output_type": "stream",
          "name": "stdout",
          "text": [
            "Creating environment from the given name, wrapped in a DummyVecEnv.\n",
            "********** Iteration 0 ************\n",
            "Optimizing Policy...\n",
            "\u001b[35msampling\u001b[0m\n",
            "\u001b[35mdone in 1.627 seconds\u001b[0m\n",
            "\u001b[35mcomputegrad\u001b[0m\n",
            "\u001b[35mdone in 0.096 seconds\u001b[0m\n",
            "\u001b[35mconjugate_gradient\u001b[0m\n",
            "      iter residual norm  soln norm\n",
            "         0     0.0376          0\n",
            "         1   0.000447      0.143\n",
            "         2   0.000312      0.169\n",
            "         3   1.78e-05      0.433\n",
            "         4   6.83e-08      0.597\n",
            "         5   2.68e-07      0.597\n",
            "         6   1.93e-09      0.598\n",
            "         7   1.16e-08      0.598\n",
            "         8   7.79e-12      0.598\n",
            "\u001b[35mdone in 0.151 seconds\u001b[0m\n",
            "Expected: 0.027 Actual: 0.027\n",
            "Stepsize OK!\n",
            "\u001b[35mvf\u001b[0m\n",
            "\u001b[35mdone in 0.104 seconds\u001b[0m\n",
            "-----------------------------------------\n",
            "| EpLenMean               | 20.1        |\n",
            "| EpRewMean               | 20.1        |\n",
            "| EpThisIter              | 49          |\n",
            "| EpisodesSoFar           | 49          |\n",
            "| TimeElapsed             | 2.07        |\n",
            "| TimestepsSoFar          | 1024        |\n",
            "| entloss                 | 0.0         |\n",
            "| entropy                 | 0.68373     |\n",
            "| explained_variance_t... | 0.000793    |\n",
            "| meankl                  | 0.009324925 |\n",
            "| optimgain               | 0.026500195 |\n",
            "| surrgain                | 0.026500195 |\n",
            "-----------------------------------------\n"
          ]
        }
      ]
    }
  ]
}